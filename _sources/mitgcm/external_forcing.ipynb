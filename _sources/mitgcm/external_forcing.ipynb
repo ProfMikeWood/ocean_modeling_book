{
 "cells": [
  {
   "cell_type": "markdown",
   "id": "e1d08f3d",
   "metadata": {},
   "source": [
    "# External Forcing\n",
    "External forcing fields (usually) refer to atmospheric paramters that modify the temperature, salinity, or momentum in the upper ocean. However, there are some occasionally-used external forcing fields that are implemented at the ocean floor, such as geothermal heat flux. The following table lists commonly-used external forcing fields:\n",
    "\n",
    "### Common External Forcing Fields\n",
    "\n",
    "| Field Name | Model Variable | Units | Notes | \n",
    "| ---------- | -------------- | ----- | :---- |\n",
    "| Zonal Wind | `UVEL`           | m/s   | Wind is positive eastward *in model coordinates*, which is not necessarily east on the real globe, depending on the orientation of the model grid |\n",
    "| Meridional Wind | `VVEL` | m/s | Wind is positive northward *in model coordinates*, which is not necessarily east on the real globe, depending on the orientation of the model grid |\n",
    "| Surface Air Temperature | `ATEMP` | K | If Celsius is used, an offset of 273.15 must be applied in the data.exf file. |\n",
    "| Surface Specific Humidity | `AQH` | kg H$_2$O per kg air | |\n",
    "| Downward shortwave radiation | `SWDOWN` | W/m$^2$ | Downward positive |\n",
    "| Downward longwave radiation | `LWDOWN` | W/m$^2$ | Downward positive |\n",
    "| Precipitation | `PRECIP` | m/s |  |\n",
    "| Runoff | `RUNOFF` | m/s |  |"
   ]
  },
  {
   "cell_type": "markdown",
   "id": "39925c86",
   "metadata": {},
   "source": [
    "## The `exf` package\n",
    "In MITgcm, the primary way to implement external forcing conditions is through the `exf` package. "
   ]
  },
  {
   "cell_type": "markdown",
   "id": "d4108df3",
   "metadata": {},
   "source": [
    "### Compile-time considerations\n",
    "To enable the `exf` package for compilation, add a line for `exf` in the `packages.conf` files. \n",
    "\n",
    "```{note}\n",
    "While the `exf` package does not strictly require the use of the `cal` package, many of the `exf` funtionality was built around tools from the `cal` package. With this in mind, it's recommended that the `cal` package also be enabled by adding a line for `cal` in the `packages.conf` file.\n",
    "```\n",
    "\n",
    "Note that by default, the [EXF_OPTIONS.h](https://github.com/MITgcm/MITgcm/blob/master/pkg/exf/EXF_OPTIONS.h) file is configured to use all of the fields listed in the table above. Further information is provided on the [MITgcm documentation page](https://mitgcm.readthedocs.io/en/latest/phys_pkgs/exf.html) for the `exf` package."
   ]
  },
  {
   "cell_type": "markdown",
   "id": "67d791b1",
   "metadata": {},
   "source": [
    "### Run-time considerations\n",
    "\n",
    "#### data.exf\n",
    "\n",
    "The data.exf file is a required file when using the external forcing package. There are four main namelists in this file:\n",
    "\n",
    "| Namelist | Purpose | \n",
    "| -------- | :------ |\n",
    "| `EXF_NML_01` | Set parameters for reading, scaling, and applying external forcing conditions |\n",
    "| `EXF_NML_02` | Set the file names and start dates for each external field file |\n",
    "| `EXF_NML_03` | Set scaling parameters for the forcing fields  |\n",
    "| `EXF_NML_04` | Set the spatial interpolation method for each field |\n",
    "| `EXF_NML_OBCS` | When using open boundaries, the time stepping is outlined in this namelist. Not required if boundary conditions are not used. |"
   ]
  },
  {
   "cell_type": "markdown",
   "id": "e4e74318",
   "metadata": {},
   "source": [
    "#### Formatting the fields\n",
    "The external forcing fields are stored in files sized (time, Ny, Nx). There are two ways the files can be organized:\n",
    "1. All of the external forcing conditions can be added in a single file, or\n",
    "2. The external forcing conditions can be stored in annual files. In this case, each file must end in an underscore and the year. For example, `UWIND_2001`, `UWIND_2002`, etc. When using this option, the flag `useExfYearlyFields= .TRUE.,` must be set in `EXF_NML_01` and the file name is specified as `uwindfile='UWIND'`, in `EXF_NML_02` - the underscore and year will be appended based on the model time."
   ]
  },
  {
   "cell_type": "markdown",
   "id": "844c5a04",
   "metadata": {},
   "source": [
    "#### Temporal Interpolation\n",
    "In the data.exf file, temporal information is provided for each file in `EXF_NML_02`. For example, consider the following information for the zonal wind file:\n",
    "\n",
    "```\n",
    " uwindstartdate1   = 19920101,\n",
    " uwindstartdate2   = 030000,\n",
    " uwindperiod       = 21600.0,\n",
    "```\n",
    "\n",
    "This information indicates the first timestep in the file corresponds to the date 1 January 1992 at 3:00 am. The first date line corresponds to the date (YYYYMMDD) and the second to the time (HHMMSS). The final line corresponds to the temporal resolution in the model - in this case, the file provides 6-hourly wind speeds i.e. the second timesteps corresponds to 1 January 1992 at 9:00 am.\n",
    "\n",
    "In the special case that a climatological file is provided (i.e. if the file is a monthly file that will be repeated each year in the model), then the date information is omitted and the period is set to `uwindperiod = -12,`.\n",
    "\n",
    "To determine the external forcing value at a given time, the model **linearly interpolates between the two closest timesteps** at each model point."
   ]
  },
  {
   "cell_type": "markdown",
   "id": "83ca036a",
   "metadata": {},
   "source": [
    "#### Spatial Interpolation\n",
    "There are two ways that the model can spatially interpolate from the provided conditions to the model grid.\n",
    "\n",
    "First, the external forcing conditions can be provided on the exact same grid as the model. In this case, a flag of 0 should be provided in `EXF_NML_04`:\n",
    "\n",
    "```\n",
    " uwind_interpMethod = 0,\n",
    "```\n",
    "\n",
    "Second, the model can linearly interpolate the external forcing conditions onto the model grid. In this case, the geographic information for the locations of the external forcing field must be provided in `EXF_NML_04`, e.g.\n",
    "\n",
    "```\n",
    " uwind_lon0        =   0.0000000D0,\n",
    " uwind_lat0        = -89.4628220D0,\n",
    " uwind_lon_inc     =   0.7031250D0,\n",
    " uwind_lat_inc     = 0.6958694,0.6999817,0.7009048,0.7012634,0.7014313,\n",
    "                     245*0.7017418,\n",
    "                     0.7014313,0.7012634,0.7009048,0.6999817,0.6958694\n",
    " uwind_nlon        = 512,\n",
    " uwind_nlat        = 256,\n",
    "```\n",
    " \n",
    "where the lines above correspond to the lower left coordinates of the field, the grid spacings, and the shape of the field."
   ]
  }
 ],
 "metadata": {
  "kernelspec": {
   "display_name": "ms274",
   "language": "python",
   "name": "ms274"
  },
  "language_info": {
   "codemirror_mode": {
    "name": "ipython",
    "version": 3
   },
   "file_extension": ".py",
   "mimetype": "text/x-python",
   "name": "python",
   "nbconvert_exporter": "python",
   "pygments_lexer": "ipython3",
   "version": "3.10.12"
  }
 },
 "nbformat": 4,
 "nbformat_minor": 5
}
