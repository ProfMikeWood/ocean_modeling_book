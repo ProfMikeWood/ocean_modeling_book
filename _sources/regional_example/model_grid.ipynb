{
 "cells": [
  {
   "cell_type": "markdown",
   "id": "e80ae713-2cab-4917-843f-d65ad05992a7",
   "metadata": {},
   "source": [
    "# Model Grid\n",
    "\n",
    "In this notebook, we will explore how to create the grid of a model.\n",
    "\n",
    "First, import packages to re-create and visualize the model grid here:"
   ]
  },
  {
   "cell_type": "code",
   "execution_count": 1,
   "id": "613704d1-012e-49df-806d-b8348c5a4777",
   "metadata": {},
   "outputs": [
    {
     "ename": "ModuleNotFoundError",
     "evalue": "No module named 'cartopy'",
     "output_type": "error",
     "traceback": [
      "\u001b[0;31m---------------------------------------------------------------------------\u001b[0m",
      "\u001b[0;31mModuleNotFoundError\u001b[0m                       Traceback (most recent call last)",
      "Cell \u001b[0;32mIn[1], line 3\u001b[0m\n\u001b[1;32m      1\u001b[0m \u001b[38;5;28;01mimport\u001b[39;00m \u001b[38;5;21;01mnumpy\u001b[39;00m \u001b[38;5;28;01mas\u001b[39;00m \u001b[38;5;21;01mnp\u001b[39;00m\n\u001b[1;32m      2\u001b[0m \u001b[38;5;28;01mimport\u001b[39;00m \u001b[38;5;21;01mmatplotlib\u001b[39;00m\u001b[38;5;21;01m.\u001b[39;00m\u001b[38;5;21;01mpyplot\u001b[39;00m \u001b[38;5;28;01mas\u001b[39;00m \u001b[38;5;21;01mplt\u001b[39;00m\n\u001b[0;32m----> 3\u001b[0m \u001b[38;5;28;01mimport\u001b[39;00m \u001b[38;5;21;01mcartopy\u001b[39;00m\n\u001b[1;32m      4\u001b[0m \u001b[38;5;28;01mimport\u001b[39;00m \u001b[38;5;21;01mcartopy\u001b[39;00m\u001b[38;5;21;01m.\u001b[39;00m\u001b[38;5;21;01mcrs\u001b[39;00m \u001b[38;5;28;01mas\u001b[39;00m \u001b[38;5;21;01mccrs\u001b[39;00m\n",
      "\u001b[0;31mModuleNotFoundError\u001b[0m: No module named 'cartopy'"
     ]
    }
   ],
   "source": [
    "import numpy as np\n",
    "import matplotlib.pyplot as plt\n",
    "import cartopy\n",
    "import cartopy.crs as ccrs"
   ]
  },
  {
   "cell_type": "markdown",
   "id": "fb10c986-3f2c-4a55-9a04-a33cdfc2a3db",
   "metadata": {},
   "source": [
    "## The California Coast\n",
    "\n",
    "The grid for this model will be located on the west coast of California covering 135-115$^{\\circ}$W in longitude and 29-52$^{\\circ}$N in latitude. The grid spacing will be $1/12^{\\circ}$ in the zonal (east-west) direction and $1/16^{\\circ}$ in the meridional (north-south) direction, covering a grid of 360 rows and 240 columns. \n",
    "\n",
    "In the data file for my model, I will specifiy the following parameters in the `PARM04` namelist in the `data` file:"
   ]
  },
  {
   "cell_type": "markdown",
   "id": "b9556fea-2775-43ed-bac1-f45d2378009f",
   "metadata": {},
   "source": [
    "```\n",
    "usingSphericalPolarGrid=.TRUE.,\n",
    "delX=240*0.083333,\n",
    "delY=360*0.0625,\n",
    "xgOrigin=-135,\n",
    "ygOrigin=29,\n",
    "```"
   ]
  },
  {
   "cell_type": "markdown",
   "id": "b8ccdb30-ea52-449d-a396-19fb75e10c2c",
   "metadata": {},
   "source": [
    "This grid can be recreated in Python as follows:"
   ]
  },
  {
   "cell_type": "code",
   "execution_count": null,
   "id": "91f1c9b3-b2b5-43c0-904c-fb8572b244d0",
   "metadata": {},
   "outputs": [],
   "source": [
    "# define the parameters that will be used in the data file\n",
    "delX = 1/12\n",
    "delY = 1/16\n",
    "xgOrigin = -135\n",
    "ygOrigin = 29\n",
    "n_rows = 360\n",
    "n_cols = 240\n",
    "\n",
    "# recreate the grids that will be used in the model\n",
    "xc = np.arange(xgOrigin+delX/2, xgOrigin+n_cols*delX+delX/2, delX)\n",
    "yc = np.arange(ygOrigin+delY/2, ygOrigin+n_rows*delY+delY/2, delY)\n",
    "XC, YC = np.meshgrid(xc, yc)"
   ]
  },
  {
   "cell_type": "markdown",
   "id": "fc87472a-8d1c-4b43-a62e-c30f290afdcb",
   "metadata": {},
   "source": [
    "### Visualizing the Grid\n",
    "The grids above can be visualized as follows:"
   ]
  },
  {
   "cell_type": "code",
   "execution_count": null,
   "id": "b5267805-9e18-44d1-b89c-65d0e71ed619",
   "metadata": {},
   "outputs": [],
   "source": [
    "# make a plot of XC and YC\n",
    "plt.figure(figsize=(10,7))\n",
    "\n",
    "plt.subplot(1,2,1)\n",
    "C = plt.pcolormesh(XC)\n",
    "plt.colorbar(C, orientation = 'horizontal')\n",
    "plt.title('XC (Longitude)')\n",
    "\n",
    "plt.subplot(1,2,2)\n",
    "C = plt.pcolormesh(YC)\n",
    "plt.colorbar(C, orientation = 'horizontal')\n",
    "plt.title('YC (Latitude)')\n",
    "\n",
    "plt.show()"
   ]
  },
  {
   "cell_type": "markdown",
   "id": "c27d983c-de94-43d1-a600-9143acb4af04",
   "metadata": {},
   "source": [
    "### Visualizing the Grid on a Map with Cartopy\n",
    "To get a sense of where the model is located on the globe, cartopy can be be used to plot the domain on the globe:"
   ]
  },
  {
   "cell_type": "code",
   "execution_count": null,
   "id": "86ee4490-799a-4542-a343-34168021ab39",
   "metadata": {},
   "outputs": [],
   "source": [
    "plt.figure(figsize=(5,5))\n",
    "ax = plt.axes(projection=ccrs.Orthographic(-130,10))\n",
    "ax.plot(XC[:,0], YC[:,0], 'g-', transform=ccrs.PlateCarree())\n",
    "ax.plot(XC[:,-1], YC[:,-1], 'g-', transform=ccrs.PlateCarree())\n",
    "ax.plot(XC[0,:], YC[0,:], 'g-', transform=ccrs.PlateCarree())\n",
    "ax.plot(XC[-1,:], YC[-1,:], 'g-', transform=ccrs.PlateCarree())\n",
    "ax.coastlines()\n",
    "ax.set_global()\n",
    "plt.show()"
   ]
  },
  {
   "cell_type": "markdown",
   "id": "12280567-6c8e-461d-88b4-ce8bae553e47",
   "metadata": {},
   "source": [
    "### Visualizing the Grid Spacing\n",
    "The model grid is defined in terms of units in longitude and latitude although it is useful to quantify the grid spacing in terms of more familiar units, such as meters. The following `great_circle_distance` function can be used to quantify this distance:"
   ]
  },
  {
   "cell_type": "code",
   "execution_count": null,
   "id": "3e154bca-805d-475b-9086-c022637e5e67",
   "metadata": {},
   "outputs": [],
   "source": [
    "def great_circle_distance(lon_ref, lat_ref, Lon, Lat):\n",
    "    earth_radius = 6371000\n",
    "    lon_ref_radians = np.radians(lon_ref)\n",
    "    lat_ref_radians = np.radians(lat_ref)\n",
    "    lons_radians = np.radians(Lon)\n",
    "    lats_radians = np.radians(Lat)\n",
    "    lat_diff = lats_radians - lat_ref_radians\n",
    "    lon_diff = lons_radians - lon_ref_radians\n",
    "    d = np.sin(lat_diff * 0.5) ** 2 + np.cos(lat_ref_radians) * np.cos(lats_radians) * np.sin(lon_diff * 0.5) ** 2\n",
    "    h = 2 * earth_radius * np.arcsin(np.sqrt(d))\n",
    "    return(h)"
   ]
  },
  {
   "cell_type": "markdown",
   "id": "22b8897b-1603-437d-a627-8fc686a08aa9",
   "metadata": {},
   "source": [
    "Then, loop through the points to generate inter-point distances in the horizontal (`dXC`) and vertical (`dYC`) directions:"
   ]
  },
  {
   "cell_type": "code",
   "execution_count": null,
   "id": "6c2220a5-689f-4905-a035-4f2ed44ba5d3",
   "metadata": {},
   "outputs": [],
   "source": [
    "dXC = np.zeros((np.shape(XC)[0], np.shape(XC)[1]-1))\n",
    "for row in range(np.shape(XC)[0]):\n",
    "    for col in range(np.shape(XC)[1]-1):\n",
    "        dXC[row,col] = great_circle_distance(XC[row,col], YC[row,col], XC[row,col+1], YC[row,col+1])\n",
    "\n",
    "dYC = np.zeros((np.shape(YC)[0]-1, np.shape(YC)[1]))\n",
    "for row in range(np.shape(XC)[0]-1):\n",
    "    for col in range(np.shape(XC)[1]):\n",
    "        dYC[row,col] = great_circle_distance(XC[row,col], YC[row,col], XC[row+1,col], YC[row+1,col])"
   ]
  },
  {
   "cell_type": "markdown",
   "id": "a6c8cf60-6719-49f2-b909-aa5e14aa858c",
   "metadata": {},
   "source": [
    "Finally, make a plot of the inter-point distances:"
   ]
  },
  {
   "cell_type": "code",
   "execution_count": null,
   "id": "1dd9bbb2-393d-460d-be38-d3c3fcf802be",
   "metadata": {},
   "outputs": [],
   "source": [
    "# make a plot of XC and YC\n",
    "plt.figure(figsize=(10,5))\n",
    "\n",
    "plt.subplot(1,2,1)\n",
    "C = plt.pcolormesh(dXC)\n",
    "plt.colorbar(C, orientation = 'horizontal')\n",
    "plt.title('dXC')\n",
    "\n",
    "plt.subplot(1,2,2)\n",
    "C = plt.pcolormesh(dYC.round(3))\n",
    "plt.colorbar(C, orientation = 'horizontal')\n",
    "plt.title('YC')\n",
    "\n",
    "plt.show()"
   ]
  },
  {
   "cell_type": "markdown",
   "id": "668c2d55-0059-48a4-8981-453db74d04b4",
   "metadata": {},
   "source": [
    "As we can see the grid has a resolution of about 7 km, although there is a north-south gradient in horizontal distances (in other words, points further north are closer together). "
   ]
  }
 ],
 "metadata": {
  "kernelspec": {
   "display_name": "cs185c",
   "language": "python",
   "name": "cs185c"
  },
  "language_info": {
   "codemirror_mode": {
    "name": "ipython",
    "version": 3
   },
   "file_extension": ".py",
   "mimetype": "text/x-python",
   "name": "python",
   "nbconvert_exporter": "python",
   "pygments_lexer": "ipython3",
   "version": "3.10.12"
  }
 },
 "nbformat": 4,
 "nbformat_minor": 5
}
