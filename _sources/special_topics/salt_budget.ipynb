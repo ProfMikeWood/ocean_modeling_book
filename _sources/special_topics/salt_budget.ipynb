{
 "cells": [
  {
   "cell_type": "markdown",
   "id": "8d1e2606",
   "metadata": {},
   "source": [
    "# Salt Budgets\n",
    "\n",
    "This page outlines the pertinent files and methodology to compute a salt budget using output from an MITgcm model."
   ]
  },
  {
   "cell_type": "markdown",
   "id": "12817aba",
   "metadata": {},
   "source": [
    "## Required Fields\n",
    "\n",
    "The following fields are required for the salt budget:\n",
    "\n",
    "| Field | Variable Name | Units | \n",
    "| ----- | ------------------------- | ---- |\n",
    "| Zonal Advective Flux of Salinity | ADVx_SLT | g/kg m$^3$/s |\n",
    "| Meridional Advective Flux of Salinity | ADVy_SLT | g/kg m$^3$/s |\n",
    "| Vertical Advective Flux of Salinity | ADVr_SLT | g/kg m$^3$/s |\n",
    "| Zonal Diffusive Flux of Salinity | DFxE_SLT | g/kg m$^3$/s |\n",
    "| Meridional Diffusive Flux of Salinity | DFyE_SLT | g/kg m$^3$/s |\n",
    "| Vertical Diffusive Flux of Salinity (Explicit part) | DFrE_SLT | g/kg m$^3$/s |\n",
    "| Vertical Diffusive Flux of Salinity (Implicit part) | DFrI_SLT | g/kg m$^3$/s |\n",
    "| Net surface freshwater flux | oceFWflx | kg/m$^2$/s |\n",
    "| Vertical mass-weighted transport of Potential Temperature | WSLTMASS | g/kg m$^3$/s |\n",
    "| Total surface salt flux | SFLUX | g/m$^2$/s |\n",
    "| Vertical Diffusive Flux (KPP Scheme) | KPPg_SLT |  g/kg m$^3$/s |\n",
    "\n",
    "Note that the `KPPg_SLT` variable is only required when using the `kpp` package."
   ]
  },
  {
   "cell_type": "markdown",
   "id": "149e6f2a",
   "metadata": {},
   "source": [
    "```{note}\n",
    "If `implicitDiffusion=.TRUE.`, then the diffusive flux terms `DFxE_SLT`, `DFyE_SLT`, and `DFrE_SLT` are not required to close the budget.\n",
    "```"
   ]
  },
  {
   "cell_type": "markdown",
   "id": "4b22d01f",
   "metadata": {},
   "source": [
    "### Suggested Diagnostics Organization\n",
    "The following entries to the `data.diagnostics` file would yield the terms above.\n",
    "\n",
    "```\n",
    "#---\n",
    "frequency(1)  = 86400.0,\n",
    "fields(1:3,1) = 'ADVx_SLT','ADVy_SLT','ADVr_SLT',\n",
    "filename(1)   = 'diags/salt_flux_adv/salt_flux_adv',\n",
    "\n",
    "#---\n",
    "frequency(2)  = 86400.0,\n",
    "fields(1:5,2) = 'DFxE_SLT','DFyE_SLT','DFrE_SLT','DFrI_SLT','KPPg_SLT',\n",
    "filename(2)   = 'diags/salt_flux_diff/salt_flux_diff',\n",
    "\n",
    "#---\n",
    "frequency(3)  = 86400.0,\n",
    "fields(1:3,3) = 'oceFWflx','WSLTMASS','SFLUX   ',\n",
    "filename(3)   = 'diags/salt_flux_surf/salt_flux_surf',\n",
    "levels(:,3)     = 1\n",
    "\n",
    "```"
   ]
  },
  {
   "cell_type": "markdown",
   "id": "40fcbec3-b895-463c-a96b-0b7bd42b0ba9",
   "metadata": {},
   "source": []
  }
 ],
 "metadata": {
  "kernelspec": {
   "display_name": "cs185c",
   "language": "python",
   "name": "cs185c"
  },
  "language_info": {
   "codemirror_mode": {
    "name": "ipython",
    "version": 3
   },
   "file_extension": ".py",
   "mimetype": "text/x-python",
   "name": "python",
   "nbconvert_exporter": "python",
   "pygments_lexer": "ipython3",
   "version": "3.11.9"
  }
 },
 "nbformat": 4,
 "nbformat_minor": 5
}
