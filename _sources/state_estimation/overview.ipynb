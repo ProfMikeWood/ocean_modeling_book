{
 "cells": [
  {
   "cell_type": "markdown",
   "id": "2de130fa",
   "metadata": {},
   "source": [
    "# State Estimation Overview"
   ]
  },
  {
   "cell_type": "code",
   "execution_count": 2,
   "id": "0a893a84",
   "metadata": {},
   "outputs": [],
   "source": [
    "import numpy as np\n",
    "import matplotlib.pyplot as plt"
   ]
  },
  {
   "cell_type": "markdown",
   "id": "8bcb06ff",
   "metadata": {},
   "source": [
    "## The True Function\n",
    "\n",
    "The true function $\\textbf{x}^t(t)$ represents the real physics process that the model is trying to capture. For the ocean model example, this function yields 3D fields of temperature, salinity, velocity, and other other parameters pertinent to the ocean. \n",
    "\n",
    "In the example for this notebook, $\\textbf{x}^t(t)$ is a one-dimensional function representing the height of a ball thrown from a platform with an initial height of $h_0 = 3$ m, an initial velocity of $v_0 = 15$ m/s, and on a planet with a gravitational acceleration of $g=-9.8$ m/s$^2$. Friction in the air is neglected for this example. From physics and calculus, this function has a simple, quadratic form:\n",
    "\n",
    "$$\n",
    "x^t(t) = h_0 + v_0t + \\frac{g}{2}t^2\n",
    "$$\n",
    "\n",
    "We can define this function for computations as follows:"
   ]
  },
  {
   "cell_type": "code",
   "execution_count": 3,
   "id": "a4e03881",
   "metadata": {},
   "outputs": [],
   "source": [
    "# define the true constants\n",
    "h_0_t = 3\n",
    "v_0_t = 15\n",
    "g_t = -9.8\n",
    "\n",
    "# define the time\n",
    "delta_t = 0.01\n",
    "t_max = (-v_0_t - np.sqrt(v_0_t**2-2*g_t*h_0_t))/g_t\n",
    "t = np.arange(0,t_max,delta_t)\n",
    "\n",
    "# define the true solution \n",
    "x_true = h_0_t + v_0_t*t + g_t/2*(t**2)\n",
    "v_true = v_0_t + g_t*t"
   ]
  },
  {
   "cell_type": "markdown",
   "id": "0a2c0652",
   "metadata": {},
   "source": [
    "In the optimization problem, a model $M$ is optimized to best fit a set of observational data $\\textbf{y}^O$ which is a function of the true solution. In the ocean, $\\textbf{y}^O$ may correspond to data from satellites or in situ observations. The mapping from the true physical space to the data $H$ can be expressed as\n",
    "\n",
    "$$\n",
    "\\textbf{y}^O = H \\begin{bmatrix} \\textbf{x}^t(t_0)\\\\ \\vdots \\\\ \\textbf{x}^t(t_N)  \\end{bmatrix} + \\boldsymbol\\varepsilon\n",
    "$$\n",
    "\n",
    "where $\\boldsymbol\\varepsilon$ are the errors associated with the measurements. The errors are assumed to have zero mean and covariance matrix $\\textbf{R}$. \n",
    "\n",
    "For our projectile example, we can assume that we are able to make observations of our projectile at times $t=0.5$ seconds and $t=2$ seconds. At each of these times, we can observe both the position $x$ and the velocity $v$ of the projectile. In this case, we can organize our measurements into a data array as\n",
    "\n",
    "$$\n",
    "\\textbf{y}^O = \\begin{bmatrix} x(t=0.5)\\\\ x(t=2)\\\\ v(t=0.5)\\\\ v(t=2)  \\end{bmatrix}\n",
    "$$\n",
    "\n",
    "We can define this measurement function as follows:"
   ]
  },
  {
   "cell_type": "code",
   "execution_count": null,
   "id": "9f406aa4",
   "metadata": {},
   "outputs": [],
   "source": []
  }
 ],
 "metadata": {
  "kernelspec": {
   "display_name": "teaching",
   "language": "python",
   "name": "teaching"
  },
  "language_info": {
   "codemirror_mode": {
    "name": "ipython",
    "version": 3
   },
   "file_extension": ".py",
   "mimetype": "text/x-python",
   "name": "python",
   "nbconvert_exporter": "python",
   "pygments_lexer": "ipython3",
   "version": "3.11.3"
  }
 },
 "nbformat": 4,
 "nbformat_minor": 5
}
