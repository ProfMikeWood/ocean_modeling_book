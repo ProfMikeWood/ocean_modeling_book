{
 "cells": [
  {
   "cell_type": "markdown",
   "id": "e3f84188-5231-4960-904c-cb45c1090b83",
   "metadata": {},
   "source": [
    "# Conservation Equations"
   ]
  },
  {
   "cell_type": "markdown",
   "id": "8437490a-614e-4e9e-adb5-a4d447f4d656",
   "metadata": {},
   "source": [
    "This page is aimed at outlining the main equations governing fluid flow in the ocean. Further information is provided on subsequent pages. \n",
    "\n",
    "\n",
    "## \n",
    "Before listing the equations, here we define some common symbology used in oceanography:\n",
    "\n",
    "| Symbol | Variable | Typical Units |\n",
    "| ------ | -------- | ------------- \n",
    "| x, y, z  | Cooridinates for zonal, meridional, and veritical directions | meters |\n",
    "| u, v, w | Fluid velocity in the zonal, meridional, and vertical directions | meters per second |\n",
    "| $\\rho$ | Density | kg/m$^3$ |\n",
    "| g | Gravitational Acceleration | m/s$^3$ |\n",
    "| $\\Theta$ | Potential Temperature | $^{\\circ}$C |\n",
    "| S | Practical Salinity | psu |\n"
   ]
  },
  {
   "cell_type": "markdown",
   "id": "5dca0a20-de7f-49fb-8fc2-d16ce9488b96",
   "metadata": {},
   "source": [
    "## Conservation Equations \n",
    "\n",
    "### Conservation of Mass\n",
    "At a given point in the ocean, mass must be conserved\n",
    "\n",
    "$\n",
    "\\frac{\\partial u}{\\partial x} + \\frac{\\partial v}{\\partial y} + \\frac{\\partial }{\\partial x} = 0 \n",
    "$\n",
    "\n",
    "### Conservation of Momentum\n",
    "\n",
    "$\n",
    "\\frac{\\partial \\textbf{u}}{\\partial x}\n",
    "$\n",
    "\n",
    "### Conservation of Heat\n",
    "\n",
    "$\n",
    "\\frac{\\partial \\Theta}{\\partial t} + \\frac{\\partial \\Theta \\textbf{u}}{\\partial t}  = 0\n",
    "$\n",
    "\n",
    "\n",
    "###"
   ]
  },
  {
   "cell_type": "markdown",
   "id": "34888937-e6e4-4593-9d02-4f673cbb0981",
   "metadata": {},
   "source": [
    "## Common Approximations and Simplifying Assumptions\n",
    "### Hydrostatic\n",
    "\n",
    "$\n",
    "\\frac{\\partial p}{\\partial z} = \\rho g\n",
    "$\n"
   ]
  },
  {
   "cell_type": "code",
   "execution_count": null,
   "id": "8b2f55a3-68b6-491c-8f38-9b5a497bdc08",
   "metadata": {},
   "outputs": [],
   "source": []
  }
 ],
 "metadata": {
  "kernelspec": {
   "display_name": "ms274",
   "language": "python",
   "name": "ms274"
  },
  "language_info": {
   "codemirror_mode": {
    "name": "ipython",
    "version": 3
   },
   "file_extension": ".py",
   "mimetype": "text/x-python",
   "name": "python",
   "nbconvert_exporter": "python",
   "pygments_lexer": "ipython3",
   "version": "3.10.12"
  }
 },
 "nbformat": 4,
 "nbformat_minor": 5
}
