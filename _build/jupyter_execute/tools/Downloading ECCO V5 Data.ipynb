{
 "cells": [
  {
   "cell_type": "markdown",
   "id": "34989e05-15a5-4759-9930-54d255ed56ff",
   "metadata": {},
   "source": [
    "# Downloading ECCO V5 Data\n",
    "\n",
    "This notebook is designed to download ECCO data from the [ECCO Drive](https://ecco.jpl.nasa.gov/drive/).\n",
    "\n",
    "Note that you must have a NASA Earthdata account. When you first navigate to the [ECCO Drive](https://ecco.jpl.nasa.gov/drive/), you will be directed to a screen with your WebDAV/Programmatic API credentials - these will be used when prompted for your credentials below.\n",
    "\n",
    "#### Import the modules for this notebook"
   ]
  },
  {
   "cell_type": "code",
   "execution_count": null,
   "id": "3cb9f554-076d-4cf0-91cb-a6d7b2a79b71",
   "metadata": {},
   "outputs": [],
   "source": [
    "import requests\n",
    "from requests.auth import HTTPBasicAuth\n",
    "import os"
   ]
  },
  {
   "cell_type": "markdown",
   "id": "c1c8b363-a895-4915-8d2e-99ce04b1e3b6",
   "metadata": {},
   "source": [
    "#### Define the destination file path"
   ]
  },
  {
   "cell_type": "code",
   "execution_count": null,
   "id": "67398b75-f002-4f0b-aca3-30b7eeefca33",
   "metadata": {},
   "outputs": [],
   "source": [
    "# define the path to the folder where the data will be downloaded\n",
    "download_folder = ''"
   ]
  },
  {
   "cell_type": "markdown",
   "id": "1cdc1404-0fc7-4a17-8c1d-10b7a9c2da73",
   "metadata": {},
   "source": [
    "#### Make a list of file paths"
   ]
  },
  {
   "cell_type": "code",
   "execution_count": null,
   "id": "e1033587-6ec6-4689-a70e-2072a45236f3",
   "metadata": {},
   "outputs": [],
   "source": [
    "# choose an ECCO version and release\n",
    "version = 'Version5' #e.g. Version5\n",
    "release = 'Alpha'\n",
    "\n",
    "# choose a subset\n",
    "subset = 'nctiles_grid' #e.g. interp_monthly\n",
    "\n",
    "# choose the variable to download\n",
    "var_name = 'GRID' # e.g. SSHDYN\n",
    "\n",
    "# choose a start year and end year (in range 1992-2017)\n",
    "start_year = 2015\n",
    "end_year = 2015\n",
    "\n",
    "# define the base url\n",
    "if version=='Version5' and subset=='latlon_daily':\n",
    "    base_url = 'https://ecco.jpl.nasa.gov/drive/files/'+version+'/'+release+'/'+subset+'/'+var_name+'.nc'\n",
    "elif var_name == 'GRID':\n",
    "    base_url = 'https://ecco.jpl.nasa.gov/drive/files/'+version+'/'+release+'/'+subset\n",
    "else:\n",
    "    base_url = 'https://ecco.jpl.nasa.gov/drive/files/'+version+'/'+release+'/'+subset+'/'+var_name\n",
    "\n",
    "# make a list of URls corresponding to the file dates\n",
    "file_urls = []\n",
    "if var_name == 'GRID':\n",
    "    for tile_number in range(1,14):\n",
    "        tile = '{:04d}'.format(tile_number)\n",
    "        file_name = var_name+'.'+tile+'.nc'\n",
    "        file_urls.append(base_url+'/'+file_name)\n",
    "else:\n",
    "    for year in range(start_year,end_year+1):\n",
    "        for month in range(1,13):\n",
    "            yr = str(year)\n",
    "            mo = '{:02d}'.format(month)\n",
    "            if 'daily' in subset:\n",
    "                if month in [1,3,5,7,8,10,12]:\n",
    "                    n_days = 31\n",
    "                elif month in [4,6,9,11]:\n",
    "                    n_days = 30\n",
    "                else:\n",
    "                    if year%4==0:\n",
    "                        n_days = 29\n",
    "                    else:\n",
    "                        n_days = 28\n",
    "                for day in range(1,n_days+1):\n",
    "                    dy = '{:02d}'.format(day)\n",
    "                    file_name = var_name+'_'+yr+mo+dy+'.nc'\n",
    "                    file_urls.append(base_url+'/'+file_name)\n",
    "            else:\n",
    "                file_name = var_name+'_'+yr+'_'+mo+'.nc'\n",
    "                file_urls.append(base_url+'/'+str(year)+'/'+file_name)"
   ]
  },
  {
   "cell_type": "markdown",
   "id": "85042999-7368-410c-9426-167e894959e9",
   "metadata": {},
   "source": [
    "#### Download the data"
   ]
  },
  {
   "cell_type": "code",
   "execution_count": null,
   "id": "19c0e188-105c-4578-8cb8-459a2d70848c",
   "metadata": {
    "scrolled": true
   },
   "outputs": [],
   "source": [
    "print('Enter your WebDAV/Programmatic API credentials')\n",
    "username = input('Enter your username: ')\n",
    "password = input('Enter your password: ')\n",
    "\n",
    "# check that all of the subdirectories are created\n",
    "if version not in os.listdir(download_folder):\n",
    "    os.mkdir(os.path.join(download_folder,version))\n",
    "if release not in os.listdir(os.path.join(download_folder,version)):\n",
    "    os.mkdir(os.path.join(download_folder,version,release))\n",
    "if subset not in os.listdir(os.path.join(download_folder,version,release)):\n",
    "    os.mkdir(os.path.join(download_folder,version,release,subset))\n",
    "if var_name not in os.listdir(os.path.join(download_folder,version,release,subset)):\n",
    "    os.mkdir(os.path.join(download_folder,version,release,subset,var_name))\n",
    "\n",
    "with requests.sessions.Session() as session:\n",
    "    session.auth = (username, password)\n",
    "    for i in range(len(file_urls)):\n",
    "        url = file_urls[i]\n",
    "        file_name = url.split('/')[-1]\n",
    "        if file_name not in os.listdir(os.path.join(download_folder,version,release,subset,var_name)):\n",
    "            print('Downloading '+file_name+' (file '+str(i+1)+' of '+str(len(file_urls))+')')\n",
    "            output_file = os.path.join(download_folder,version,release,subset,var_name,file_name)\n",
    "            with session.get(url, stream=True, allow_redirects=True) as r:\n",
    "                r.raise_for_status()\n",
    "                with open(output_file, 'wb') as f:                   \n",
    "                    for chunk in r.iter_content(chunk_size=8192):   \n",
    "                        f.write(chunk)"
   ]
  },
  {
   "cell_type": "markdown",
   "id": "41ad2087-807f-49c4-98af-1b4c05aa2209",
   "metadata": {},
   "source": [
    "Note: if the above cell fails before the download is complete, try re-running - often the API will reject downloads when there are too many pings in a given time interval."
   ]
  }
 ],
 "metadata": {
  "kernelspec": {
   "display_name": "Python 3 (ipykernel)",
   "language": "python",
   "name": "python3"
  },
  "language_info": {
   "codemirror_mode": {
    "name": "ipython",
    "version": 3
   },
   "file_extension": ".py",
   "mimetype": "text/x-python",
   "name": "python",
   "nbconvert_exporter": "python",
   "pygments_lexer": "ipython3",
   "version": "3.10.12"
  }
 },
 "nbformat": 4,
 "nbformat_minor": 5
}