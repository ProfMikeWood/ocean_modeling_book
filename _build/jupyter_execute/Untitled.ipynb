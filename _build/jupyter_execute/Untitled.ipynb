{
 "cells": [
  {
   "cell_type": "markdown",
   "id": "d931dd6e",
   "metadata": {},
   "source": [
    "| Action | slurm | pbs |\n",
    "| ---------- |----------- |----------- |\n",
    "| Check jobs currently in the queue | squeue | qstat |\n",
    "| Check jobs currently in the queue for a given user | squeue -u user | qstat -u user | \n",
    "| Submit a job script | sbatch script_name | qsub script_name | \n",
    "| Cancel a job with ID job_id | scancel job_id | qdel job_id | "
   ]
  },
  {
   "cell_type": "markdown",
   "id": "60716352",
   "metadata": {},
   "source": [
    "$\n",
    "\\text{ceiling}\\left(\\frac{\\text{nunber of cpus}}{\\text{cpus per node}}\\right)\n",
    "$"
   ]
  },
  {
   "cell_type": "code",
   "execution_count": null,
   "id": "385791eb",
   "metadata": {},
   "outputs": [],
   "source": []
  }
 ],
 "metadata": {
  "kernelspec": {
   "display_name": "ms274",
   "language": "python",
   "name": "ms274"
  },
  "language_info": {
   "codemirror_mode": {
    "name": "ipython",
    "version": 3
   },
   "file_extension": ".py",
   "mimetype": "text/x-python",
   "name": "python",
   "nbconvert_exporter": "python",
   "pygments_lexer": "ipython3",
   "version": "3.10.12"
  }
 },
 "nbformat": 4,
 "nbformat_minor": 5
}