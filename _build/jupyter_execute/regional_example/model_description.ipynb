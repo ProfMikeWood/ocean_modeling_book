{
 "cells": [
  {
   "cell_type": "markdown",
   "id": "9dc175c8-f744-4655-9037-b313c486c951",
   "metadata": {},
   "source": [
    "# Configuration Overview\n",
    "\n",
    "Under Construction"
   ]
  },
  {
   "cell_type": "markdown",
   "id": "ab220f8e",
   "metadata": {},
   "source": [
    "In this model configuration, I will investigate the effects of coastal wind on upwelling in California. In particular, I will investigate the following science question:\n",
    "\n",
    "How do winds affect ocean temperature in the California Current?\n",
    "\n",
    "To investigate this question, I will construct a model spanning the coast of California and run my model simulation for one year in two experiments: a run with wind and a run without wind. I will run my experiment during the year 2008 which is a year of strong upwelling as shown in the BEUTI Index. I anticipate that the model with wind will have colder surface ocean temperatures than the model without wind because the ocean will be more stratified without the wind forcing.\n",
    "\n",
    "For initial conditions, I will use the state of the ECCO Version 5 Model in January of 2008. Similarly, I will construct boundary and external forcing conditions for this model from the ECCO Version 5 model output. To analyze the results, I will create a timeseries of temperature in the Monterey Bay area in the two models and investigate differences through time. For visualization, I will create a movie of temperature differences between the model with wind and the model without wind."
   ]
  }
 ],
 "metadata": {
  "kernelspec": {
   "display_name": "mitgcm",
   "language": "python",
   "name": "mitgcm"
  },
  "language_info": {
   "codemirror_mode": {
    "name": "ipython",
    "version": 3
   },
   "file_extension": ".py",
   "mimetype": "text/x-python",
   "name": "python",
   "nbconvert_exporter": "python",
   "pygments_lexer": "ipython3",
   "version": "3.10.10"
  }
 },
 "nbformat": 4,
 "nbformat_minor": 5
}