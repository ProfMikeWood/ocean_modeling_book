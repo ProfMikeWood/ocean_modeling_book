{
 "cells": [
  {
   "cell_type": "markdown",
   "id": "8d1e2606",
   "metadata": {},
   "source": [
    "# Heat Budgets\n",
    "\n",
    "This page outlines the pertinent files and methodology to compute a heat budget using output from an MITgcm model."
   ]
  },
  {
   "cell_type": "markdown",
   "id": "12817aba",
   "metadata": {},
   "source": [
    "## Required Fields\n",
    "\n",
    "The following fields are required for the heat budget:\n",
    "\n",
    "| Field | Variable Name | Units | \n",
    "| ----- | ------------------------- | ---- |\n",
    "| Zonal Advective Flux of Potential Temperature | ADVx_TH | C$^{\\circ}$ m$^3$/s |\n",
    "| Meridional Advective Flux of Potential Temperature | ADVy_TH | C$^{\\circ}$ m$^3$/s |\n",
    "| Vertical Advective Flux of Potential Temperature | ADVr_TH | C$^{\\circ}$ m$^3$/s |\n",
    "|Zonal Diffusive Flux of Potential Temperature | DFxE_TH | C$^{\\circ}$ m$^3$/s |\n",
    "|Meridional Diffusive Flux of Pot.Temperature | DFyE_TH | C$^{\\circ}$ m$^3$/s |\n",
    "|Vertical Diffusive Flux of Pot.Temperature (Explicit part) | DFrE_TH | C$^{\\circ}$ m$^3$/s |\n",
    "|Vertical Diffusive Flux of Pot.Temperature (Implicit part) | DFrI_TH | C$^{\\circ}$ m$^3$/s |\n",
    "|Net short-wave radiation | oceQnet | W / m$^2$ |\n",
    "|Vertical mass-weighted transport of Potential Temperature | WTHMASS | C$^{\\circ}$ m$^3$/s |\n",
    "|Total surface heat flux | TFLUX | W / m$^2$ |\n",
    "|Vertical Diffusive Flux (KPP Scheme) | KPPg_TH |  C$^{\\circ}$ m$^3$/s |\n",
    "\n",
    "Note that the `KPPg_TH` variable is only required when using the `kpp` package."
   ]
  },
  {
   "cell_type": "markdown",
   "id": "4b22d01f",
   "metadata": {},
   "source": [
    "### Suggested Diagnostics Organization\n",
    "The following entries to the `data.diagnostics` file would yield the terms above.\n",
    "\n",
    "```\n",
    "#---\n",
    "frequency(1)  = 86400.0,\n",
    "fields(1:3,1) = 'ADVx_TH ','ADVy_TH ','ADVr_TH ',\n",
    "filename(1)   = 'diags/heat_flux_adv/heat_flux_adv',\n",
    "\n",
    "#---\n",
    "frequency(2)  = 86400.0,\n",
    "fields(1:5,2) = 'DFxE_TH ','DFyE_TH ','DFrE_TH ','DFrI_TH ','KPPg_TH ',\n",
    "filename(2)   = 'diags/heat_flux_diff/heat_flux_diff',\n",
    "\n",
    "#---\n",
    "frequency(3)  = 86400.0,\n",
    "fields(1:3,3) = 'oceQsw ','WTHMASS ','TFLUX   ',\n",
    "filename(3)   = 'diags/heat_flux_surf/heat_flux_surf',\n",
    "levels(:,3)     = 1,\n",
    "```"
   ]
  },
  {
   "cell_type": "markdown",
   "id": "4eb448a6-100b-465f-8e33-ecaa2f2e6fca",
   "metadata": {},
   "source": []
  }
 ],
 "metadata": {
  "kernelspec": {
   "display_name": "cs185c",
   "language": "python",
   "name": "cs185c"
  },
  "language_info": {
   "codemirror_mode": {
    "name": "ipython",
    "version": 3
   },
   "file_extension": ".py",
   "mimetype": "text/x-python",
   "name": "python",
   "nbconvert_exporter": "python",
   "pygments_lexer": "ipython3",
   "version": "3.11.9"
  }
 },
 "nbformat": 4,
 "nbformat_minor": 5
}
