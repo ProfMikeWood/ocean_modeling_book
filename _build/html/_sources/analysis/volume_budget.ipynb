{
 "cells": [
  {
   "cell_type": "markdown",
   "id": "8d1e2606",
   "metadata": {},
   "source": [
    "# Volume Budgets\n",
    "\n",
    "This page outlines the pertinent files and methodology to compute a volume budget using output from an MITgcm model."
   ]
  },
  {
   "cell_type": "markdown",
   "id": "12817aba",
   "metadata": {},
   "source": [
    "## Required Fields\n",
    "\n",
    "The following fields are required for the heat budget:\n",
    "\n",
    "| Field | Variable Name | Units | \n",
    "| ----- | ------------------------- | ---- |\n",
    "| Zonal mass-weighted component of velocity | UVELMASS | m/s |\n",
    "| Meridional mass-weighted component of velocity | VVELMASS | m/s |\n",
    "| Vertical mass-weighted component of velocity | WVELMASS | m/s |\n",
    "| Net surface freshwater flux | oceFWflx | kg/m$^2$/s |"
   ]
  },
  {
   "cell_type": "markdown",
   "id": "4b22d01f",
   "metadata": {},
   "source": [
    "### Suggested Diagnostics Organization\n",
    "The following entries to the `data.diagnostics` file would yield the terms above.\n",
    "\n",
    "```\n",
    "#---\n",
    "frequency(1)  = 86400.0,\n",
    "fields(1:4,1) = 'UVELMASS','VVELMASS','WVELMASS','oceFWFlx',\n",
    "filename(1)   = 'diags/vol_flux/vol_flux',\n",
    "\n",
    "```"
   ]
  },
  {
   "cell_type": "markdown",
   "id": "4ac76198-f082-4a69-8c2b-715c44dda3d5",
   "metadata": {},
   "source": []
  }
 ],
 "metadata": {
  "kernelspec": {
   "display_name": "cs185c",
   "language": "python",
   "name": "cs185c"
  },
  "language_info": {
   "codemirror_mode": {
    "name": "ipython",
    "version": 3
   },
   "file_extension": ".py",
   "mimetype": "text/x-python",
   "name": "python",
   "nbconvert_exporter": "python",
   "pygments_lexer": "ipython3",
   "version": "3.11.9"
  }
 },
 "nbformat": 4,
 "nbformat_minor": 5
}
