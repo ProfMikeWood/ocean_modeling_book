{
 "cells": [
  {
   "cell_type": "markdown",
   "id": "9dc175c8-f744-4655-9037-b313c486c951",
   "metadata": {},
   "source": [
    "# Assessing Model Results\n",
    "\n",
    "This notebook serves as a demo for an initial assessment of the Calfornia regional model. \n",
    "\n",
    "First, import packages to re-create and visualize the model fields here:"
   ]
  },
  {
   "cell_type": "code",
   "execution_count": null,
   "id": "836f57c0-6983-48ce-b8a0-31c5b04463a7",
   "metadata": {},
   "outputs": [],
   "source": [
    "import os\n",
    "import numpy as np\n",
    "import matplotlib.pyplot as plt\n",
    "from matplotlib.gridspec import GridSpec\n",
    "from matplotlib.patches import Rectangle\n",
    "import moviepy.video.io.ImageSequenceClip"
   ]
  },
  {
   "cell_type": "markdown",
   "id": "9ea649be-1868-47e6-a895-1cf4b03d5cdf",
   "metadata": {},
   "source": [
    "Next, define the location of the run directory for the model. This is the directory that holds all of the output from the model."
   ]
  },
  {
   "cell_type": "code",
   "execution_count": null,
   "id": "08d8f138-1542-4af2-845e-ab0acad86dec",
   "metadata": {},
   "outputs": [],
   "source": [
    "# define the input directory\n",
    "run_dir = '/Users/mike/Documents/SJSU/CS_185C/Project/run/diags'"
   ]
  },
  {
   "cell_type": "markdown",
   "id": "49731d1b-529f-470f-974a-a32b3a8c59ac",
   "metadata": {},
   "source": [
    "Then, re-create the model grid"
   ]
  },
  {
   "cell_type": "code",
   "execution_count": null,
   "id": "e05b4415-bbe3-4aea-92a2-cdfe6910c41c",
   "metadata": {},
   "outputs": [],
   "source": [
    "delX = 1/12\n",
    "delY = 1/16\n",
    "xgOrigin = -135\n",
    "ygOrigin = 29\n",
    "n_rows = 360\n",
    "n_cols = 240\n",
    "\n",
    "# recreate the grids that will be used in the model\n",
    "xc = np.arange(xgOrigin+delX/2, xgOrigin+n_cols*delX, delX)\n",
    "yc = np.arange(ygOrigin+delY/2, ygOrigin+n_rows*delY, delY)\n",
    "XC, YC = np.meshgrid(xc, yc)"
   ]
  },
  {
   "cell_type": "markdown",
   "id": "13b21c53-bc6d-41bf-a262-d5fab546edd8",
   "metadata": {},
   "source": [
    "## Plot a model field at one timestep\n",
    "A good first assessment of a model is to plot some of the output fields. Here, I'll choose one of the surface temperature fields. I'll first read in the field, and then I'll plot it"
   ]
  },
  {
   "cell_type": "code",
   "execution_count": null,
   "id": "c78d4352-fe38-49c9-b43c-b3631cc21a3e",
   "metadata": {},
   "outputs": [],
   "source": [
    "grid = np.fromfile(os.path.join(run_dir,'TS_surf_daily_mean',\n",
    "                                'TS_surf_daily_mean.0000068256.data'), '>f4')\n",
    "grid = grid.reshape((2,nrows,ncols))"
   ]
  },
  {
   "cell_type": "code",
   "execution_count": null,
   "id": "0bcc218a-f635-429e-90d5-0ff9f96d7eb0",
   "metadata": {},
   "outputs": [],
   "source": [
    "C = plt.pcolormesh(grid[0,:,:-1], cmap='turbo', vmin=6,vmax=22)\n",
    "plt.colorbar(C)\n",
    "plt.show()"
   ]
  },
  {
   "cell_type": "markdown",
   "id": "94c737e8-1343-428f-a808-dd15348b7c2e",
   "metadata": {},
   "source": [
    "## Make a timeseries\n",
    "After plotting a few fields, next we can see how the model is evolving through time. For this example, I'll choose a point in the domain near the coast and I'll plot that on a map to ensure it's in the right location:"
   ]
  },
  {
   "cell_type": "code",
   "execution_count": null,
   "id": "6c40b8ad-a55e-4e19-926e-052d00c45c02",
   "metadata": {},
   "outputs": [],
   "source": [
    "row = 125\n",
    "col = 150\n",
    "C = plt.pcolormesh(grid[0,:,:-1], cmap='turbo', vmin=6,vmax=22)\n",
    "plt.plot(col,row,'w.')\n",
    "plt.colorbar(C)\n",
    "plt.show()"
   ]
  },
  {
   "cell_type": "markdown",
   "id": "0ca21d89-12f8-4f53-95c7-9de6cb49d20b",
   "metadata": {},
   "source": [
    "When I'm happy with the location of the point, I'll loop through all of the output files to generate a timeseries:"
   ]
  },
  {
   "cell_type": "code",
   "execution_count": null,
   "id": "ac9839c9-2f1c-4b22-944c-718553075eca",
   "metadata": {},
   "outputs": [],
   "source": [
    "timestep_numbers = []\n",
    "theta_values = []\n",
    "for file_name in sorted(os.listdir(os.path.join(run_dir,'TS_surf_daily_mean'))):\n",
    "    if file_name[-4:]=='data':\n",
    "        # get the timestep number\n",
    "        timestep_numbers.append(int(file_name.split('.')[-2]))\n",
    "\n",
    "        grid = np.fromfile(os.path.join(run_dir,'TS_surf_daily_mean',\n",
    "                                file_name), '>f4')\n",
    "        grid = grid.reshape((2,nrows,ncols))\n",
    "        theta_values.append(grid[0,row,col])"
   ]
  },
  {
   "cell_type": "markdown",
   "id": "4e73028c-4fc6-4d6d-8d5d-667c7a1dd9b2",
   "metadata": {},
   "source": [
    "Finally, I'll plot the timeseries:"
   ]
  },
  {
   "cell_type": "code",
   "execution_count": null,
   "id": "0d63430a-47fd-4346-9ced-3e2559c03ff5",
   "metadata": {},
   "outputs": [],
   "source": [
    "plt.plot(timestep_numbers, theta_values,'r-')\n",
    "plt.ylabel('Temperature ($^{\\circ}$C)')\n",
    "plt.xlabel('Model timestep')\n",
    "plt.show()"
   ]
  },
  {
   "cell_type": "markdown",
   "id": "f7d3d7bd-aa68-4ecb-b1b9-19438e3166fb",
   "metadata": {},
   "source": [
    "## Make a movie\n",
    "The timeseries looks pretty good - let's take a look at how our model is evolving through time by making a movie. First, let's make and test a function to make the panels for our movie"
   ]
  },
  {
   "cell_type": "code",
   "execution_count": null,
   "id": "a092c157-6bfd-4bcb-9113-0288e6ead5c5",
   "metadata": {},
   "outputs": [],
   "source": [
    "plot_dir = '/Users/mike/Documents/SJSU/CS_185C/Project/plots'"
   ]
  },
  {
   "cell_type": "code",
   "execution_count": null,
   "id": "f6a7d143-4c86-4bd9-b2a6-ae2b497b8fa6",
   "metadata": {},
   "outputs": [],
   "source": [
    "def plot_panel(run_dir, plot_dir, file_name):\n",
    "\n",
    "    # read in the data\n",
    "    grid = np.fromfile(os.path.join(run_dir,'TS_surf_daily_mean',\n",
    "                                file_name), '>f4')\n",
    "    grid = grid.reshape((2,nrows,ncols))\n",
    "    timestep_number = int(file_name.split('.')[-2])\n",
    "\n",
    "    # make a figure \n",
    "    fig = plt.figure(figsize=(7,8))\n",
    "    gs1 = GridSpec(11, 10, left=0.1, right=0.98, bottom=0.06, top=0.95, hspace=0.05)\n",
    "\n",
    "    # plot the temperature\n",
    "    ax1 = fig.add_subplot(gs1[:-2, :])\n",
    "    C = ax1.pcolormesh(XC[:,:-1], YC[:,:-1], grid[0,:,:-1], cmap='turbo', vmin=6, vmax=22)\n",
    "    plt.colorbar(C, label='Temperature ($^{\\circ}$C)')\n",
    "\n",
    "    # # plot the land in grey\n",
    "    # land = (grid[0,:,:-1]==0).astype(int)\n",
    "    # print(np.min(land), np.max(land))\n",
    "    # land = np.ma.masked_where(land, land==0)\n",
    "    # print(land)\n",
    "    # ax1.pcolormesh(XC[:,:-1], YC[:,:-1], land, cmap='Greys')#, vmin=-1, vmax=1)\n",
    "    \n",
    "    # format the axes\n",
    "    plt.title('CA Current')\n",
    "    plt.ylabel('Latitude')\n",
    "    plt.xlabel('Longitude')\n",
    "\n",
    "    max_timestep_number = int(366*24*60*60/300)\n",
    "    ax2 = fig.add_subplot(gs1[-1, :-2])\n",
    "    rect = Rectangle((0,0),timestep_number, 1, facecolor='grey', edgecolor='k')\n",
    "    ax2.add_patch(rect)\n",
    "    ax2.set_xlim([0, max_timestep_number])\n",
    "    ax2.set_ylim([0, 1])\n",
    "    ax2.set_xticks([0,max_timestep_number])\n",
    "    ax2.set_xticklabels([2008,2009])\n",
    "    ax2.set_yticklabels([])\n",
    "    ax2.set_xlabel('Time')\n",
    "    \n",
    "    output_file = os.path.join(plot_dir,'panels',file_name[:-5]+'.png')\n",
    "    plt.savefig(output_file, facecolor='white')\n",
    "    plt.close(fig)\n",
    "\n",
    "\n",
    "# test the function\n",
    "plot_panel(run_dir, plot_dir, 'TS_surf_daily_mean.0000016992.data')\n",
    "plot_panel(run_dir, plot_dir, 'TS_surf_daily_mean.0000068256.data')"
   ]
  },
  {
   "cell_type": "markdown",
   "id": "348abb18-6750-4e56-8655-b26a9fb8dce3",
   "metadata": {},
   "source": [
    "When we're happy with the plotting function, we can use it to make the panels:"
   ]
  },
  {
   "cell_type": "code",
   "execution_count": null,
   "id": "7be9ccd3-52fb-4c53-b6b7-20a21581b337",
   "metadata": {},
   "outputs": [],
   "source": [
    "for file_name in sorted(os.listdir(os.path.join(run_dir,'TS_surf_daily_mean'))):\n",
    "    if file_name[-4:]=='data':\n",
    "        plot_panel(run_dir, plot_dir, file_name)"
   ]
  },
  {
   "cell_type": "markdown",
   "id": "ad2c1eee-e126-48f1-af91-34788e372656",
   "metadata": {},
   "source": [
    "And then stitch everything together into a movie:"
   ]
  },
  {
   "cell_type": "code",
   "execution_count": null,
   "id": "8a5d03b8-bf92-4466-98bf-22ed56e493e8",
   "metadata": {},
   "outputs": [],
   "source": [
    "panel_list = []\n",
    "for file_name in sorted(os.listdir(os.path.join(plot_dir,'panels'))):\n",
    "    if file_name[-4:]=='.png':\n",
    "        panel_list.append(os.path.join(plot_dir,'panels',file_name))"
   ]
  },
  {
   "cell_type": "code",
   "execution_count": null,
   "id": "5e7f64c1-8ad7-4e35-9e49-8fe24575f255",
   "metadata": {},
   "outputs": [],
   "source": [
    "# set the frames per second\n",
    "fps=5\n",
    "\n",
    "# use the ImageSequenceClip module to set up the clip\n",
    "clip = moviepy.video.io.ImageSequenceClip.ImageSequenceClip(panel_list, fps=fps)\n",
    "\n",
    "# write the video to a file\n",
    "clip.write_videofile(os.path.join(plot_dir,'CA Sea Surface Temperature.mp4'))"
   ]
  },
  {
   "cell_type": "markdown",
   "id": "c7c7cce5-b205-42e1-8332-f56cc75d4380",
   "metadata": {},
   "source": [
    "This is just a first analysis with my first model run. Next, I will wotk to run my next model experiment and analyze the comparison."
   ]
  }
 ],
 "metadata": {
  "kernelspec": {
   "display_name": "cs185c",
   "language": "python",
   "name": "cs185c"
  },
  "language_info": {
   "codemirror_mode": {
    "name": "ipython",
    "version": 3
   },
   "file_extension": ".py",
   "mimetype": "text/x-python",
   "name": "python",
   "nbconvert_exporter": "python",
   "pygments_lexer": "ipython3",
   "version": "3.10.12"
  }
 },
 "nbformat": 4,
 "nbformat_minor": 5
}
