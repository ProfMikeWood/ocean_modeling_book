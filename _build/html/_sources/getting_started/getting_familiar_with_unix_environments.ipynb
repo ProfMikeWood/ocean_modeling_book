{
 "cells": [
  {
   "cell_type": "markdown",
   "id": "a103dd37-5e8e-400e-bec0-9fc0b6fb0487",
   "metadata": {},
   "source": [
    "# Getting Familiar with Unix Environments\n",
    "This page is designed as an introduction to unix shell scripting.\n",
    "\n",
    "## Getting Started\n",
    "- Open your shell\n",
    "- Download the example dataset"
   ]
  },
  {
   "cell_type": "markdown",
   "id": "97fce135-1f0d-4668-a507-eee90e5edf3f",
   "metadata": {},
   "source": [
    "## Navigating the File System\n",
    "When you open your terminal, you want to determine where in your file system you are.\n",
    "\n",
    "```\n",
    "pwd\n",
    "```\n",
    "The command pwd stands for *p*resent *w*orking *directory*.\n",
    "\n",
    "From the above command you may see something like the following on a Mac system:\n",
    "\n",
    "```\n",
    "/Users/mike\n",
    "```\n",
    "\n",
    "or the following on a Windows system:\n",
    "\n",
    "```\n",
    "/Users/mike\n",
    "```\n",
    "\n",
    "Wherever you are, you can determine what files, folders and other items are in your current folder:\n",
    "\n",
    "```\n",
    "ls\n",
    "```\n",
    "\n",
    "Your `ls` command will look something like the following:\n",
    "\n",
    "```\n",
    "Applications         Library              Pictures             bin\n",
    "Documents            Movies               Public               opt\n",
    "Desktop              Downloads            Music               \n",
    "```\n",
    "\n",
    "\n",
    "To move from one folder to the next, use the cd command:\n",
    "\n",
    "```\n",
    "cd Documents\n",
    "```\n",
    "\n",
    "You can repeat the cd command in succession to move around your computer, or you can string together a full path to move to a different location:\n",
    "```\n",
    "cd Teaching/Courses/CS 185C/Lectures/Lecture 7-2\n",
    "```"
   ]
  },
  {
   "cell_type": "markdown",
   "id": "dfc1da0b-57df-4de0-a078-c4f54eb5ffad",
   "metadata": {},
   "source": [
    "## Making and Editing Files\n",
    "We can make and edit files with a variety of different editors, such as the nano command. For example, we can edit the file with \n",
    "\n",
    "```\n",
    "nano README.txt\n",
    "```\n",
    "\n",
    "You can edit the text directly. When you are done, you can use CTRL-X to save and exit.\n",
    "\n",
    "To see that the file contains, you can use `cat`:\n",
    "```\n",
    "cat README.txt\n",
    "```\n",
    "\n",
    "To see just the end of the file, you can use `tail`:\n",
    "```\n",
    "tail README.txt\n",
    "```\n",
    "\n",
    "We can link files with ...\n",
    "```\n",
    "ln -s ../\n",
    "```\n",
    "\n",
    "Exercise: Link the following files into the current run directory:\n",
    "- the mitgcmuv files\n",
    "- the input files\n",
    "- the namelist files"
   ]
  },
  {
   "cell_type": "markdown",
   "id": "7f200a27-9587-4756-87ac-5fe8dc0672fa",
   "metadata": {},
   "source": [
    "## Shell Profiles\n",
    "Each shell has a given profile. You can see your profile with \n",
    "```\n",
    "ls -a $HOME\n",
    "```\n",
    "The "
   ]
  },
  {
   "cell_type": "markdown",
   "id": "8178c25f-1c04-4736-8594-d71f7d05431e",
   "metadata": {},
   "source": [
    "## Copying Files\n",
    "We can make and edit files with ..."
   ]
  },
  {
   "cell_type": "markdown",
   "id": "0df3161f-b43e-4482-a24a-c30bfedbdecf",
   "metadata": {},
   "source": [
    "## Deleting Files\n",
    "We can delete files with ..."
   ]
  },
  {
   "cell_type": "markdown",
   "id": "8d03ae46-40ef-4456-a2b9-e9601d570429",
   "metadata": {},
   "source": [
    "## Summary of Commands\n",
    "Add a summary here\n",
    "\n",
    "| Command | Description |\n",
    "|--------|----------|\n",
    "| pwd | Obtains the present working directory |\n",
    "| ls | Lists the contents of the present working directory |"
   ]
  },
  {
   "cell_type": "markdown",
   "id": "7c9269c3-e976-4f91-b79f-9fe7bfe418b0",
   "metadata": {},
   "source": [
    "## Summary of Commands to Set Up Run Directory\n",
    "Add a summary here"
   ]
  }
 ],
 "metadata": {
  "kernelspec": {
   "display_name": "cs185c",
   "language": "python",
   "name": "cs185c"
  },
  "language_info": {
   "codemirror_mode": {
    "name": "ipython",
    "version": 3
   },
   "file_extension": ".py",
   "mimetype": "text/x-python",
   "name": "python",
   "nbconvert_exporter": "python",
   "pygments_lexer": "ipython3",
   "version": "3.11.9"
  }
 },
 "nbformat": 4,
 "nbformat_minor": 5
}
