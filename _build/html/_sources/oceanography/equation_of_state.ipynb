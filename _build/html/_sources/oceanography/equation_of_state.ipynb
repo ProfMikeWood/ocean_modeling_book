{
 "cells": [
  {
   "cell_type": "markdown",
   "id": "5997d691",
   "metadata": {},
   "source": [
    "# Equation of State\n",
    "\n",
    "Density ($\\rho$) is a key parameter in determining fluid flow in the ocean. For example, it plays a role in the pressure gradient force:\n",
    "$$\n",
    "F_{\\text{pressure gradient}} = -\\frac{1}{\\rho}\\nabla p\n",
    "$$\n",
    "where $p$ is the pressure.\n",
    "\n",
    "Density itself is a function of temperature, salinity, and pressure: $\\rho = f(T,S,p)$. This relationship, called the **equation of state** has been drived by measuring the density of seawater in a laboratory setting across a wide range of temperature, salinity, and pressure values. \n",
    "\n",
    "Given its fundamental role relating key ocean properties, the equation of state is used often oceanography and has been implemented in toolboxes in various languages. In Python, we can access this relationship using the Gibbs Seawater Toolbox (gsw) and use it to examine density in temperature and salinity space:"
   ]
  },
  {
   "cell_type": "code",
   "execution_count": 1,
   "id": "692c1030",
   "metadata": {},
   "outputs": [],
   "source": [
    "import gsw\n",
    "import matplotlib.pyplot as plt\n",
    "import numpy as np"
   ]
  },
  {
   "cell_type": "markdown",
   "id": "1c946ce7",
   "metadata": {},
   "source": [
    "Lets define a range of parameters to examine the relationship:"
   ]
  },
  {
   "cell_type": "code",
   "execution_count": 2,
   "id": "9755fd40",
   "metadata": {},
   "outputs": [],
   "source": [
    "# define parameters in common units\n",
    "pressure = 5 # dbar\n",
    "practical_salinity = np.linspace(32.5,36) # psu\n",
    "potential_temperature = np.linspace(2,30) # degrees C\n",
    "longitude = 0 # degrees\n",
    "latitude = 0 # degrees\n",
    "\n",
    "# convert to units used in density approximation\n",
    "absolute_salinity = gsw.conversions.SA_from_SP(practical_salinity, pressure, longitude, latitude)\n",
    "conservative_temperature = gsw.conversions.CT_from_pt(absolute_salinity, potential_temperature)\n",
    "\n",
    "# make a 2D mesh grid of salinity and temperature for plotting\n",
    "Absolute_Salinity, Conservative_Temperature = np.meshgrid(absolute_salinity, conservative_temperature)\n",
    "\n",
    "# compute density from salinity and temperature\n",
    "Rho = gsw.density.rho(Absolute_Salinity, Conservative_Temperature, pressure)"
   ]
  },
  {
   "cell_type": "markdown",
   "id": "2a81ec44",
   "metadata": {},
   "source": [
    "Next, we can create a typical temperature-salinity plot, typically called a **T-S diagram**:"
   ]
  },
  {
   "cell_type": "code",
   "execution_count": 3,
   "id": "8ad699b1",
   "metadata": {},
   "outputs": [],
   "source": [
    "fig = plt.figure()\n",
    "C = plt.contour(practical_salinity, potential_temperature, Rho,\n",
    "                colors='silver', levels = np.arange(1020,1029))\n",
    "plt.gca().clabel(C, C.levels, inline=True, fontsize=10,\n",
    "                 fmt = lambda d : str(round(d))+' kg/m$^3$')\n",
    "plt.ylabel('Potential Temperature $^{\\circ}$C')\n",
    "plt.xlabel('Practical Salinity (psu)')\n",
    "plt.title('Temperature - Salinity Diagram')\n",
    "plt.show()"
   ]
  },
  {
   "cell_type": "markdown",
   "id": "c3b17a29",
   "metadata": {},
   "source": [
    "By examining the density contours in temperature-salinity space, we observe that the density of typical ocean water lies in the range of 1020 to 1030 kg/m$^3$. Since the 1000 is constant, it is often substracted as a reference density $\\rho_0$ and the density is plotted in terms of $sigma = \\rho - \\rho_0$.\n",
    "\n",
    "We also observe that the function is typically not linear - especially at lower temperatures and salinities, which are typical of many locations in the Arctic. Given this locally linear nature of the equation of state, it is commonly expressed in terms of expansion and contraction coefficients $\\alpha$ and $\\beta$ for temperature and salinity, respectively:\n",
    "$$\n",
    "\\Delta \\rho = \\alpha \\Delta \\Theta \\text{ and } \\Delta \\rho = \\beta \\Delta S\n",
    "$$"
   ]
  }
 ],
 "metadata": {
  "kernelspec": {
   "display_name": "ms274",
   "language": "python",
   "name": "ms274"
  },
  "language_info": {
   "codemirror_mode": {
    "name": "ipython",
    "version": 3
   },
   "file_extension": ".py",
   "mimetype": "text/x-python",
   "name": "python",
   "nbconvert_exporter": "python",
   "pygments_lexer": "ipython3",
   "version": "3.10.12"
  }
 },
 "nbformat": 4,
 "nbformat_minor": 5
}
